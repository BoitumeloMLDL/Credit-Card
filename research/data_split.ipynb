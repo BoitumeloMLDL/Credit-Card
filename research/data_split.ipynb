{
 "cells": [
  {
   "cell_type": "code",
   "execution_count": 1,
   "metadata": {},
   "outputs": [],
   "source": [
    "import pandas as pd\n",
    "from sklearn.model_selection import train_test_split"
   ]
  },
  {
   "cell_type": "code",
   "execution_count": 2,
   "metadata": {},
   "outputs": [],
   "source": [
    "data = pd.read_csv(\"/Users/boitumelomaseko/Data Science/Projects/Credit Card/artifacts/creditcard.csv\")"
   ]
  },
  {
   "cell_type": "code",
   "execution_count": 4,
   "metadata": {},
   "outputs": [],
   "source": [
    "X = data.drop(columns=[\"Class\"])  # Features\n",
    "y = data[\"Class\"]  # Target variable\n",
    "\n",
    "# Define the sample size (e.g., 30% of the original dataset)\n",
    "sample_size = 0.95\n",
    "\n",
    "# Perform stratified sampling\n",
    "X_subsample, _, y_subsample, _ = train_test_split(\n",
    "    X, y, train_size=sample_size, stratify=y, random_state=42\n",
    ")\n",
    "\n",
    "# Combine back into a single DataFrame\n",
    "df_subsample = pd.concat([X_subsample, y_subsample], axis=1)\n",
    "\n",
    "# Save the subsampled dataset\n",
    "df_subsample.to_csv(\"training_dataset.csv\", index=False)"
   ]
  },
  {
   "cell_type": "code",
   "execution_count": 5,
   "metadata": {},
   "outputs": [],
   "source": [
    "# Perform an anti-join (remove subsample from original)\n",
    "df_remaining = data.merge(df_subsample, on=data.columns.tolist(), how='left', indicator=True)\n",
    "df_remaining = df_remaining[df_remaining[\"_merge\"] == \"left_only\"].drop(columns=[\"_merge\"])\n",
    "\n",
    "# Save the remaining dataset\n",
    "df_remaining.to_csv(\"test_dataset.csv\", index=False)"
   ]
  },
  {
   "cell_type": "code",
   "execution_count": null,
   "metadata": {},
   "outputs": [],
   "source": []
  }
 ],
 "metadata": {
  "kernelspec": {
   "display_name": "fraudenv",
   "language": "python",
   "name": "python3"
  },
  "language_info": {
   "codemirror_mode": {
    "name": "ipython",
    "version": 3
   },
   "file_extension": ".py",
   "mimetype": "text/x-python",
   "name": "python",
   "nbconvert_exporter": "python",
   "pygments_lexer": "ipython3",
   "version": "3.11.0"
  }
 },
 "nbformat": 4,
 "nbformat_minor": 2
}
